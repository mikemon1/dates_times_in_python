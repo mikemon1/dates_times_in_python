{
 "cells": [
  {
   "cell_type": "markdown",
   "metadata": {},
   "source": [
    "# Working with dates and times\n",
    "* Created on: 05/28/2021\n",
    "* Created by: Michael Monahan\n",
    "\n",
    "## Module Overview\n",
    "* Section 1: Dates and Calendars\n",
    "* Section 2: Combining dates and times\n",
    "* Section 3: Time zones and daylight savings\n",
    "* Section 4: Dates and times in Pandas"
   ]
  },
  {
   "cell_type": "markdown",
   "metadata": {},
   "source": [
    "## Summary\n",
    "* the `date()` class takes as arguments; year, month, day\n",
    "* the `date` object has accessors such as `.year`, and methods such as `.weekday()`\n",
    "* `date` objects can be aggregateed and sorted using `min()`,`max()`,`sort()`\n",
    "* to calculate aggregates, such as `.first()`,`.min()`,`.mean()`, by group use `.groupby()`\n",
    "* to get a `timedelta` two dates can be subtracted\n",
    "* `.isoformat()` or `.strftime()` can be used to chage `date` objects into strings\n",
    "* the `datetime()` class expands on the `date()` class and allows for hour, minute, second and microsecond\n",
    "    * if not used, are set to zero by default\n",
    "* the `.replace()` method permits the replacement of any value in `datetime`\n",
    "* convert a `timedelta` into an integer with `.total_seconds()` method\n",
    "* turn dates into strings with `.strftime()` and strings into dates with `.strptime()`\n",
    "* a `datetime` is \"timezone naive\" unless a `tzinfo` parameter has been set\n",
    "* setting `tzinfo` tells a `datetime` how to align/offset itself from UTC\n",
    "* to shift the date and time to match a new timezone use the `.astimezone()` method\n",
    "* import `tz` from `dateutil` to access a comprehensive, updated timezone database\n",
    "* use the `parse_dates` argument when using `pd.read_csv()` to set date time coulmns\n",
    "    * if setting `parse_dates` does not work try using the `pd.to_datetime()` function   \n",
    "* use `.tz_localize()` to set a timezone, keeping the date and time the same\n",
    "* use `.tz_convert()` to change the date and time to match a new timezone"
   ]
  },
  {
   "cell_type": "markdown",
   "metadata": {},
   "source": [
    "## Import the required librarys"
   ]
  },
  {
   "cell_type": "code",
   "execution_count": null,
   "metadata": {},
   "outputs": [],
   "source": [
    "import pandas as pd\n",
    "from matplotlib import pyplot as plt\n",
    "import statsmodels as sm\n",
    "import seaborn as sns\n",
    "import numpy as np"
   ]
  },
  {
   "cell_type": "markdown",
   "metadata": {},
   "source": [
    "## Dates in Python\n",
    "### Why date classes are needed\n",
    "* How to:\n",
    "    * Figure out how many days elapsed?\n",
    "    * Verify the dates are in temporal order?\n",
    "    * Know which day of the week?\n",
    "    * Filter data between specified dates?"
   ]
  },
  {
   "cell_type": "code",
   "execution_count": 13,
   "metadata": {},
   "outputs": [],
   "source": [
    "# Example\n",
    "two_events = ['9/5/2016','6/22/2020']"
   ]
  },
  {
   "cell_type": "code",
   "execution_count": 17,
   "metadata": {},
   "outputs": [
    {
     "name": "stdout",
     "output_type": "stream",
     "text": [
      "2016\n",
      "9\n",
      "5\n",
      "0\n"
     ]
    }
   ],
   "source": [
    "# Create date objects\n",
    "\n",
    "# Import date\n",
    "from datetime import date\n",
    "\n",
    "# Create dates\n",
    "two_event_dates = [date(2016,9,5), date(2020,6,22)]\n",
    "print(two_event_dates[0].year)\n",
    "print(two_event_dates[0].month)\n",
    "print(two_event_dates[0].day)\n",
    "print(two_event_dates[0].weekday())"
   ]
  },
  {
   "cell_type": "markdown",
   "metadata": {},
   "source": [
    "## Math with Dates"
   ]
  },
  {
   "cell_type": "code",
   "execution_count": 25,
   "metadata": {},
   "outputs": [
    {
     "name": "stdout",
     "output_type": "stream",
     "text": [
      "11\n",
      "3\n",
      "18\n"
     ]
    }
   ],
   "source": [
    "# Example numbers\n",
    "a = 11\n",
    "b = 14\n",
    "l = [a,b]\n",
    "# Find the smallest number in the list\n",
    "print(min(l))\n",
    "\n",
    "# Subtract two numbers\n",
    "print(b-a)\n",
    "\n",
    "# Add 4 to a number\n",
    "print(b + 4)"
   ]
  },
  {
   "cell_type": "code",
   "execution_count": 33,
   "metadata": {},
   "outputs": [
    {
     "name": "stdout",
     "output_type": "stream",
     "text": [
      "365 days, 0:00:00\n",
      "365\n",
      "218\n"
     ]
    }
   ],
   "source": [
    "# Now with dates\n",
    "d1 = date(2020,6,6)\n",
    "d2 = date(2021,6,6)\n",
    "l2 = [d1,d2]\n",
    "print(d2 - d1)\n",
    "delta = d2 - d1\n",
    "print(delta.days)\n",
    "\n",
    "# Create a date object for May 9th, 2007\n",
    "start = date(2007, 5, 9)\n",
    "\n",
    "# Create a date object for December 13th, 2007\n",
    "end = date(2007, 12, 13)\n",
    "\n",
    "# Subtract the two dates and print the number of days\n",
    "print((end - start).days)"
   ]
  },
  {
   "cell_type": "code",
   "execution_count": 32,
   "metadata": {},
   "outputs": [
    {
     "name": "stdout",
     "output_type": "stream",
     "text": [
      "2020-07-06\n"
     ]
    }
   ],
   "source": [
    "# Import timedelta\n",
    "from datetime import timedelta\n",
    "# Create a 29 date timedelta\n",
    "td = timedelta(days = 30)\n",
    "print(d1 + td)"
   ]
  },
  {
   "cell_type": "markdown",
   "metadata": {},
   "source": [
    "## Formatting dates"
   ]
  },
  {
   "cell_type": "code",
   "execution_count": 34,
   "metadata": {},
   "outputs": [
    {
     "name": "stdout",
     "output_type": "stream",
     "text": [
      "2011-07-22\n"
     ]
    }
   ],
   "source": [
    "# Turning dates into strings\n",
    "\n",
    "# Example date \n",
    "d = date(2011,7,22)\n",
    "# ISO 8601 format YYYY-MM-DD\n",
    "print(d)"
   ]
  },
  {
   "cell_type": "code",
   "execution_count": 35,
   "metadata": {
    "scrolled": true
   },
   "outputs": [
    {
     "name": "stdout",
     "output_type": "stream",
     "text": [
      "['2011-07-22']\n"
     ]
    }
   ],
   "source": [
    "# Express the date in ISO 8601 format and put into a list\n",
    "print([d.isoformat()])"
   ]
  },
  {
   "cell_type": "code",
   "execution_count": 43,
   "metadata": {},
   "outputs": [
    {
     "name": "stdout",
     "output_type": "stream",
     "text": [
      "2021\n",
      "The current year is 2021\n",
      "2021/07/22\n",
      "22 July 2021\n",
      "22-Jul-21\n"
     ]
    }
   ],
   "source": [
    "# strftime formatting\n",
    "\n",
    "# Example date\n",
    "d = date(2021,7,22)\n",
    "print(d.strftime('%Y'))\n",
    "\n",
    "# To format a string with additional text in it\n",
    "print(d.strftime('The current year is %Y'))\n",
    "\n",
    "# Change the formatting\n",
    "print(d.strftime('%Y/%m/%d'))\n",
    "print(d.strftime('%d %B %Y'))\n",
    "print(d.strftime('%d-%b-%y'))"
   ]
  },
  {
   "cell_type": "markdown",
   "metadata": {},
   "source": [
    "## Adding time to the date"
   ]
  },
  {
   "cell_type": "code",
   "execution_count": 49,
   "metadata": {},
   "outputs": [
    {
     "name": "stdout",
     "output_type": "stream",
     "text": [
      "2017-10-01T15:26:26\n"
     ]
    }
   ],
   "source": [
    "# Import datetime\n",
    "from datetime import datetime\n",
    "\n",
    "# Create a datetime object\n",
    "dt = datetime(2017, 10, 1, 15, 26, 26)\n",
    "\n",
    "# Print the results in ISO 8601 format\n",
    "print(dt.isoformat())"
   ]
  },
  {
   "cell_type": "code",
   "execution_count": 48,
   "metadata": {},
   "outputs": [
    {
     "name": "stdout",
     "output_type": "stream",
     "text": [
      "2021-06-06 10:00:00\n"
     ]
    }
   ],
   "source": [
    "dt_hr  = dt.replace(minute = 0, second = 0, microsecond = 0)\n",
    "print(dt_hr)"
   ]
  },
  {
   "cell_type": "markdown",
   "metadata": {},
   "source": [
    "## Printing and parsing datetimes"
   ]
  },
  {
   "cell_type": "code",
   "execution_count": 52,
   "metadata": {},
   "outputs": [
    {
     "name": "stdout",
     "output_type": "stream",
     "text": [
      "2017-12-30\n",
      "2017-12-30 15:19:13\n",
      "2017-12-30T15:19:13\n"
     ]
    }
   ],
   "source": [
    "# Printing datetimes\n",
    "dt = datetime(2017, 12, 30, 15, 19, 13)\n",
    "print(dt.strftime('%Y-%m-%d'))\n",
    "print(dt.strftime('%Y-%m-%d %H:%M:%S'))\n",
    "print(dt.isoformat())"
   ]
  },
  {
   "cell_type": "code",
   "execution_count": 110,
   "metadata": {},
   "outputs": [
    {
     "name": "stdout",
     "output_type": "stream",
     "text": [
      "<class 'datetime.datetime'>\n",
      "2017-12-30 15:19:13\n"
     ]
    }
   ],
   "source": [
    "# Parsing datetimes\n",
    "dt = datetime\\\n",
    "    .strptime('12/30/2017 15:19:13',\n",
    "                      '%m/%d/%Y %H:%M:%S')\n",
    "print(type(dt))\n",
    "print(dt)"
   ]
  },
  {
   "cell_type": "code",
   "execution_count": 75,
   "metadata": {},
   "outputs": [
    {
     "name": "stdout",
     "output_type": "stream",
     "text": [
      "2038-01-18 21:14:09\n"
     ]
    }
   ],
   "source": [
    "# Parsing a timestamp\n",
    "ts = 2147483649.0\n",
    "# Convert to datetime and print\n",
    "print(datetime.fromtimestamp(ts))"
   ]
  },
  {
   "cell_type": "markdown",
   "metadata": {},
   "source": [
    "## Working with durations"
   ]
  },
  {
   "cell_type": "code",
   "execution_count": 78,
   "metadata": {},
   "outputs": [
    {
     "name": "stdout",
     "output_type": "stream",
     "text": [
      "0:24:10\n",
      "1450.0\n"
     ]
    }
   ],
   "source": [
    "# Create example datetimes\n",
    "start = datetime(2017,10,8,23,46,47)\n",
    "end = datetime(2017,10,9,0,10,57)\n",
    "\n",
    "# Subtract datetimes to create time delta\n",
    "duration = end - start\n",
    "print(duration)\n",
    "print(duration.total_seconds())"
   ]
  },
  {
   "cell_type": "markdown",
   "metadata": {},
   "source": [
    "## UTC offsets"
   ]
  },
  {
   "cell_type": "code",
   "execution_count": 81,
   "metadata": {},
   "outputs": [
    {
     "name": "stdout",
     "output_type": "stream",
     "text": [
      "2017-12-30 15:19:13-06:00\n"
     ]
    }
   ],
   "source": [
    "# Import relevant classes\n",
    "from datetime import datetime, timedelta, timezone\n",
    "\n",
    "# US Eastern Standard time zone \n",
    "ET = timezone(timedelta(hours=-5))\n",
    "CT = timezone(timedelta(hours=-6))\n",
    "\n",
    "# Timezone-specific datetime\n",
    "dt = datetime(2017, 12, 30, 15, 19, 13, tzinfo = CT)\n",
    "print(dt)"
   ]
  },
  {
   "cell_type": "code",
   "execution_count": 86,
   "metadata": {},
   "outputs": [
    {
     "name": "stdout",
     "output_type": "stream",
     "text": [
      "2017-12-30 15:19:13-06:00\n"
     ]
    }
   ],
   "source": [
    "# Access the TZ database\n",
    "from dateutil import tz\n",
    "\n",
    "# Eastern US time\n",
    "ct = tz.gettz('America/Chicago')\n",
    "dt = datetime(2017, 12, 30, 15, 19, 13, tzinfo = ct)\n",
    "print(dt)"
   ]
  },
  {
   "cell_type": "code",
   "execution_count": 94,
   "metadata": {},
   "outputs": [
    {
     "data": {
      "text/plain": [
       "'2020-03-12T01:59:59'"
      ]
     },
     "execution_count": 94,
     "metadata": {},
     "output_type": "execute_result"
    }
   ],
   "source": [
    "## Daylight Savings time\n",
    "spring_ahead_159am = datetime(2020,3,12,1,59,59)\n",
    "spring_ahead_159am.isoformat()"
   ]
  },
  {
   "cell_type": "code",
   "execution_count": 95,
   "metadata": {},
   "outputs": [
    {
     "data": {
      "text/plain": [
       "'2020-03-12T03:00:00'"
      ]
     },
     "execution_count": 95,
     "metadata": {},
     "output_type": "execute_result"
    }
   ],
   "source": [
    "spring_ahead_3am = datetime(2020,3,12,3,0,0)\n",
    "spring_ahead_3am.isoformat()"
   ]
  },
  {
   "cell_type": "code",
   "execution_count": 96,
   "metadata": {},
   "outputs": [
    {
     "data": {
      "text/plain": [
       "3601.0"
      ]
     },
     "execution_count": 96,
     "metadata": {},
     "output_type": "execute_result"
    }
   ],
   "source": [
    "(spring_ahead_3am-spring_ahead_159am).total_seconds()"
   ]
  },
  {
   "cell_type": "code",
   "execution_count": 97,
   "metadata": {},
   "outputs": [],
   "source": [
    "from datetime import timezone, timedelta\n",
    "\n",
    "EST = timezone(timedelta(hours=-5))\n",
    "EDT = timezone(timedelta(hours=-4))"
   ]
  },
  {
   "cell_type": "code",
   "execution_count": 98,
   "metadata": {},
   "outputs": [
    {
     "data": {
      "text/plain": [
       "'2020-03-12T01:59:59-05:00'"
      ]
     },
     "execution_count": 98,
     "metadata": {},
     "output_type": "execute_result"
    }
   ],
   "source": [
    "spring_ahead_159am = spring_ahead_159am.replace(tzinfo = EST)\n",
    "spring_ahead_159am.isoformat()"
   ]
  },
  {
   "cell_type": "code",
   "execution_count": 99,
   "metadata": {},
   "outputs": [
    {
     "data": {
      "text/plain": [
       "'2020-03-12T01:59:59-04:00'"
      ]
     },
     "execution_count": 99,
     "metadata": {},
     "output_type": "execute_result"
    }
   ],
   "source": [
    "spring_ahead_159am = spring_ahead_159am.replace(tzinfo = EDT)\n",
    "spring_ahead_159am.isoformat()"
   ]
  },
  {
   "cell_type": "code",
   "execution_count": 102,
   "metadata": {},
   "outputs": [],
   "source": [
    "# Daylight savings time with dateutil\n",
    "# Import tz\n",
    "from dateutil import tz\n",
    "\n",
    "# Create eastern timezone\n",
    "eastern = tz.gettz('America/New_York')\n",
    "spring_ahead_159am = datetime(2020,3,12,1,59,59, tzinfo = eastern)\n",
    "spring_ahead_3am = datetime(2020,3,12,3,0,0, tzinfo = eastern)"
   ]
  },
  {
   "cell_type": "markdown",
   "metadata": {},
   "source": [
    "### How many hours elapsed around daylight saving?"
   ]
  },
  {
   "cell_type": "code",
   "execution_count": 103,
   "metadata": {},
   "outputs": [
    {
     "name": "stdout",
     "output_type": "stream",
     "text": [
      "2017-03-12T00:00:00-05:00 to 2017-03-12T06:00:00-04:00\n",
      "6.0\n",
      "5.0\n"
     ]
    }
   ],
   "source": [
    "# Import datetime, timedelta, tz, timezone\n",
    "from datetime import datetime, timedelta, timezone\n",
    "from dateutil import tz\n",
    "\n",
    "# Start on March 12, 2017, midnight, then add 6 hours\n",
    "start = datetime(2017, 3, 12, tzinfo = tz.gettz('America/New_York'))\n",
    "end = start + timedelta(hours=6)\n",
    "print(start.isoformat() + \" to \" + end.isoformat())\n",
    "\n",
    "# How many hours have elapsed?\n",
    "print((end - start).total_seconds()/(60*60))\n",
    "\n",
    "# What if we move to UTC?\n",
    "print((end.astimezone(timezone.utc) - start.astimezone(timezone.utc))\\\n",
    "      .total_seconds()/(60*60))"
   ]
  },
  {
   "cell_type": "markdown",
   "metadata": {},
   "source": [
    "### Daylight Saving rules are complicated: they're different in different places, they change over time, and they usually start on a Sunday (and so they move around the calendar).\n",
    "* For example, in the United Kingdom, as of the time this lesson was written, Daylight Saving begins on the last Sunday in March. Let's look at the UTC offset for March 29, at midnight, for the years 2000 to 2010"
   ]
  },
  {
   "cell_type": "code",
   "execution_count": 108,
   "metadata": {},
   "outputs": [
    {
     "name": "stdout",
     "output_type": "stream",
     "text": [
      "2000-03-29T00:00:00+01:00\n",
      "2001-03-29T00:00:00+01:00\n",
      "2002-03-29T00:00:00+00:00\n",
      "2003-03-29T00:00:00+00:00\n",
      "2004-03-29T00:00:00+01:00\n",
      "2005-03-29T00:00:00+01:00\n",
      "2006-03-29T00:00:00+01:00\n",
      "2007-03-29T00:00:00+01:00\n",
      "2008-03-29T00:00:00+00:00\n",
      "2009-03-29T00:00:00+00:00\n",
      "2010-03-29T00:00:00+01:00\n"
     ]
    }
   ],
   "source": [
    "# Import datetime and tz\n",
    "from datetime import datetime\n",
    "from dateutil import tz\n",
    "\n",
    "# Create starting date\n",
    "dt = datetime(2000, 3, 29, tzinfo = tz.gettz('Europe/London'))\n",
    "\n",
    "# Loop over the dates, replacing the year, and print the ISO timestamp\n",
    "for y in range(2000, 2011):\n",
    "  print(dt.replace(year=y)\\\n",
    "        .isoformat())"
   ]
  },
  {
   "cell_type": "markdown",
   "metadata": {},
   "source": [
    "### Ending Daylight Savings Time"
   ]
  },
  {
   "cell_type": "code",
   "execution_count": null,
   "metadata": {},
   "outputs": [],
   "source": [
    "eastern = tz.gettz('US/Eastern')\n",
    "# 2017-11-05 01:00:00\n",
    "first_1am = datetime(2017,11,5,1,0,0,\n",
    "                     tzinfo = eastern)\n",
    "tz.datetime_ambiguous(first_1am)\n",
    "\n",
    "second_1am = datetime(2017,11,5,1,0,0,\n",
    "                     tzinfo = eastern)\n",
    "second_1am = tz.enfold(second_1am)\n",
    "\n",
    "(first_1am - second_1am).total_seconds()"
   ]
  },
  {
   "cell_type": "code",
   "execution_count": null,
   "metadata": {},
   "outputs": [],
   "source": [
    "first_1am = first_1am.astimezone(tz.UTC)\n",
    "second_1am = second_1am.astimezone(tz.UTC)\n",
    "(second_1am - first_1am).total_seconds()"
   ]
  },
  {
   "cell_type": "markdown",
   "metadata": {},
   "source": [
    "### Reading date and time with pandas\n",
    "* A simple Pandas example\n",
    "```python \n",
    "# Load Pandas\n",
    "import pandas as pd\n",
    "# Import the data \n",
    "data = pd.read_csv('file_name.csv')\n",
    "# Look at the first three rows of data\n",
    "print(data.head(3))\n",
    "```"
   ]
  },
  {
   "cell_type": "markdown",
   "metadata": {},
   "source": [
    "### Loading datetimes with parse_dates\n",
    "\n",
    "```python\n",
    "# Import file and have pandas parse the dates\n",
    "data = pd.read_csv('file_name.csv',\n",
    "                   parse_dates = ['Date_column'])\n",
    "```\n",
    "```python\n",
    "#Or:\n",
    "data['Date_column'] = pd.to_datetime(data['Date_column'],\n",
    "                                     format = '%Y-%m-%d %H:%M:%S')\n",
    "```\n",
    "```python\n",
    "# Select date for second row\n",
    "data['Date_column'].iloc[2]\n",
    "```"
   ]
  },
  {
   "cell_type": "markdown",
   "metadata": {},
   "source": [
    "### Summarizing time data in Pandas\n",
    "\n",
    "```python\n",
    "# Average time\n",
    "data['column_duration'].mean()\n",
    "```\n",
    "```python\n",
    "# Total time\n",
    "data['column_duration'].sum()\n",
    "```\n",
    "```python\n",
    "# Percent of time\n",
    "data['column_duration'].sum() / timedelta(days = 30)\n",
    "```\n",
    "```python\n",
    "# Summarize by grouping\n",
    "data['interesting_coulmn'].value_counts()\n",
    "```\n",
    "```python\n",
    "# Percent time by grouped column\n",
    "data['interesting_column'].value_counts() / len(data)\n",
    "```\n",
    "```python\n",
    "# Resampling dates: 'M' for months, 'D' for days\n",
    "data.resample('M', on = 'date_column')['duration_column'].mean()\n",
    "```\n",
    "```python\n",
    "# Size per group\n",
    "data.groupby('interesting_column').size()\n",
    "```\n",
    "```python\n",
    "# First value per group\n",
    "data.groupby('interesting_column').first()\n",
    "```"
   ]
  },
  {
   "cell_type": "markdown",
   "metadata": {},
   "source": [
    "### Timezones in Pandas\n",
    "\n",
    "```python\n",
    "# Try to set a timezone in Pandas...\n",
    "data['Date_column'] = data['Date_column']\\\n",
    "    .dt.tz_localize('America/Chicago')\n",
    "# May result in an error.  Try using the 'ambiguous' argument\n",
    "```\n",
    "\n",
    "```python\n",
    "# To handle ambiguous times\n",
    "data['Date_column'] = data['Date_column']\\\n",
    "    dt.localize('America/Chicago', ambiguous = 'NaT') #Not a Time\n",
    "```\n",
    "\n",
    "* Other datetime operations\n",
    "```python\n",
    "# Year of first five rows\n",
    "data['Start date']\\\n",
    "    .head()\\\n",
    "    .dt.year\n",
    "```\n",
    "```python\n",
    "# To see the weekdays\n",
    "data['Date column']\\\n",
    "    .head()\\\n",
    "    .dt.weekday_name\n",
    "```\n",
    "```python\n",
    "# To shift a date column and pad missing value with 'NaT'\n",
    "data['Date_column']\\\n",
    "    .shift(1)\\\n",
    "    .head()\n",
    "```"
   ]
  }
 ],
 "metadata": {
  "kernelspec": {
   "display_name": "Python 3",
   "language": "python",
   "name": "python3"
  },
  "language_info": {
   "codemirror_mode": {
    "name": "ipython",
    "version": 3
   },
   "file_extension": ".py",
   "mimetype": "text/x-python",
   "name": "python",
   "nbconvert_exporter": "python",
   "pygments_lexer": "ipython3",
   "version": "3.8.5"
  }
 },
 "nbformat": 4,
 "nbformat_minor": 4
}
